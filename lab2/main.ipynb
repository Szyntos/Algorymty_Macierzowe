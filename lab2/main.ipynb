{
 "cells": [
  {
   "cell_type": "code",
   "execution_count": 247,
   "metadata": {
    "collapsed": true
   },
   "outputs": [],
   "source": [
    "import numpy as np\n",
    "from collections import Counter\n",
    "import pandas as pd\n",
    "import random\n",
    "from pprint import pprint"
   ]
  },
  {
   "cell_type": "code",
   "execution_count": 248,
   "outputs": [],
   "source": [
    "class Num(float):\n",
    "    counts = Counter(mul=0, add=0)\n",
    "\n",
    "    def __add__(self, other):\n",
    "        self.counts[\"add\"] += 1\n",
    "        return Num(super(Num, self).__add__(other))\n",
    "\n",
    "    def __mul__(self, other):\n",
    "        self.counts[\"mul\"] += 1\n",
    "        return Num(super(Num, self).__mul__(other))\n",
    "\n",
    "    def __sub__(self, other):\n",
    "        self.counts[\"add\"] += 1\n",
    "        return Num(super(Num, self).__sub__(other))\n",
    "\n",
    "    def reset_counter(self):\n",
    "        self.counts[\"mul\"] = 0\n",
    "        self.counts[\"add\"] = 0"
   ],
   "metadata": {
    "collapsed": false
   }
  },
  {
   "cell_type": "code",
   "execution_count": 249,
   "outputs": [],
   "source": [
    "def matrix_partition(A):\n",
    "    n = A.shape[0] // 2\n",
    "    m = A.shape[1] // 2\n",
    "    A11 = A[:n, :m]\n",
    "    A12 = A[:n, m:]\n",
    "    A21 = A[n:, :m]\n",
    "    A22 = A[n:, m:]\n",
    "    return A11, A12, A21, A22\n",
    "\n",
    "def matrix_repartition(A11, A12, A21, A22):\n",
    "    C = np.block([[A11, A12],\n",
    "                  [A21, A22]])\n",
    "    return C\n",
    "\n",
    "\n",
    "def compare(A, B):\n",
    "    return np.allclose(np.array(A, dtype=float), np.array(B, dtype=float), rtol=1e-05,\n",
    "                           atol=1e-08, equal_nan=False)\\\n",
    "\n",
    "def create_M_2(n):\n",
    "    n = 2 ** n\n",
    "    return np.array([[Num((random.uniform(0.00000001, 1))) for _ in range(n)] for _ in range(n)], dtype=Num)\n",
    "\n",
    "def create_M(n):\n",
    "    return np.array([[Num((random.uniform(0.00000001, 1))) for _ in range(n)] for _ in range(n)], dtype=Num)"
   ],
   "metadata": {
    "collapsed": false
   }
  },
  {
   "cell_type": "code",
   "execution_count": 250,
   "outputs": [
    {
     "name": "stdout",
     "output_type": "stream",
     "text": [
      "True\n"
     ]
    }
   ],
   "source": [
    "def inverse(A):\n",
    "    if A.shape[0] == 1:\n",
    "        if A[0][0] != 0:\n",
    "            return np.array([[1/A[0][0]]])\n",
    "        return np.array([[A[0][0]]])\n",
    "    A11, A12, A21, A22 = matrix_partition(A)\n",
    "    A11_i = inverse(A11)\n",
    "    S22 = A22 - A21 @ A11_i @ A12\n",
    "    S22_i = inverse(S22)\n",
    "    B11 = A11_i @ (np.eye(A11_i.shape[0], dtype=Num) + A12 @ S22_i @ A21 @ A11_i)\n",
    "    B12 = -A11_i @ A12 @ S22_i\n",
    "    B21 = -S22_i @ A21 @ A11_i\n",
    "    B22 = S22_i\n",
    "    return matrix_repartition(B11, B12, B21, B22)\n",
    "\n",
    "def check_inverse(A):\n",
    "    return compare(inverse(A), np.linalg.inv(np.array(A, dtype=float)))\n",
    "\n",
    "\n",
    "A = create_M(7)\n",
    "print(check_inverse(A))"
   ],
   "metadata": {
    "collapsed": false
   }
  },
  {
   "cell_type": "code",
   "execution_count": 251,
   "outputs": [
    {
     "name": "stdout",
     "output_type": "stream",
     "text": [
      "True\n"
     ]
    }
   ],
   "source": [
    "def LU(A):\n",
    "    if A.shape[0] == 1:\n",
    "        return np.array(A), np.array([[1]])\n",
    "    A11, A12, A21, A22 = matrix_partition(A)\n",
    "    L11, U11 = LU(A11)\n",
    "    U11_i = inverse(U11)\n",
    "    L21 = A21 @ U11_i\n",
    "    L11_i = inverse(L11)\n",
    "    U12 = L11_i @ A12\n",
    "    S = A22 - A21 @ U11_i @ L11_i @ A12\n",
    "    Ls, Us = LU(S)\n",
    "    U22 = Us\n",
    "    L22 = Ls\n",
    "    return[matrix_repartition(L11, np.zeros(L11.shape, dtype=Num), L21, L22),\n",
    "           matrix_repartition(U11, U12, np.zeros(U11.shape, dtype=Num), U22)]\n",
    "\n",
    "def check_LU(A):\n",
    "    L, U = LU(A)\n",
    "    return compare(L, np.tril(L)) and compare(U, np.triu(U)) and compare(A, L @ U)\n",
    "\n",
    "\n",
    "A = create_M(8)\n",
    "L, U = LU(A)\n",
    "print(check_LU(A))"
   ],
   "metadata": {
    "collapsed": false
   }
  },
  {
   "cell_type": "code",
   "execution_count": 252,
   "outputs": [
    {
     "name": "stdout",
     "output_type": "stream",
     "text": [
      "True\n"
     ]
    }
   ],
   "source": [
    "def determinant(A):\n",
    "    L, U = LU(A)\n",
    "    return np.prod([L[i][i] for i in range(L.shape[0])]) * np.prod([U[i][i] for i in range(U.shape[0])])\n",
    "\n",
    "def check_determinant(A):\n",
    "    return compare(determinant(A), np.linalg.det(np.array(A, dtype=float)))\n",
    "\n",
    "print(check_determinant(A))"
   ],
   "metadata": {
    "collapsed": false
   }
  }
 ],
 "metadata": {
  "kernelspec": {
   "display_name": "Python 3",
   "language": "python",
   "name": "python3"
  },
  "language_info": {
   "codemirror_mode": {
    "name": "ipython",
    "version": 2
   },
   "file_extension": ".py",
   "mimetype": "text/x-python",
   "name": "python",
   "nbconvert_exporter": "python",
   "pygments_lexer": "ipython2",
   "version": "2.7.6"
  }
 },
 "nbformat": 4,
 "nbformat_minor": 0
}
