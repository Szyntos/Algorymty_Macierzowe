{
 "cells": [
  {
   "cell_type": "code",
   "execution_count": 1,
   "outputs": [],
   "source": [
    "import numpy as np\n",
    "from numpy.linalg import matrix_rank\n",
    "import random\n",
    "import scipy\n",
    "from scipy import sparse\n",
    "from scipy import stats\n",
    "import matplotlib.pyplot as plt\n",
    "import time\n",
    "import pandas as pd\n",
    "import ast"
   ],
   "metadata": {
    "collapsed": false
   }
  },
  {
   "cell_type": "code",
   "execution_count": null,
   "outputs": [],
   "source": [
    "class Node:\n",
    "    def __init__(self):\n",
    "        self.rank = None\n",
    "        self.size = None\n",
    "        self.singular_values = None\n",
    "        self.U = None\n",
    "        self.V = None\n",
    "        self.sons = None"
   ],
   "metadata": {
    "collapsed": false
   }
  },
  {
   "cell_type": "code",
   "execution_count": 2,
   "outputs": [],
   "source": [
    "def show_array(repr, name, zeros=False):\n",
    "    if zeros:\n",
    "        plt.spy((repr != 0).astype(int))\n",
    "    else:\n",
    "        plt.spy(repr)\n",
    "    plt.grid(False)\n",
    "    plt.title(name)\n",
    "    plt.show()"
   ],
   "metadata": {
    "collapsed": false
   }
  },
  {
   "cell_type": "code",
   "execution_count": 3,
   "metadata": {
    "collapsed": true
   },
   "outputs": [
    {
     "data": {
      "text/plain": "<Figure size 640x480 with 1 Axes>",
      "image/png": "[encoded data removed]"
     },
     "metadata": {},
     "output_type": "display_data"
    }
   ],
   "source": [
    "from scipy.sparse import csr_matrix\n",
    "\n",
    "def generate_sparse_matrix(k):\n",
    "    size = 2**(3*k)\n",
    "    rows = []\n",
    "    cols = []\n",
    "\n",
    "    def within_bounds(x, y, z):\n",
    "        return 0 <= x < 2**k and 0 <= y < 2**k and 0 <= z < 2**k\n",
    "\n",
    "    for i in range(size):\n",
    "        x = i % (2**k)\n",
    "        y = (i // (2**k)) % (2**k)\n",
    "        z = i // (2**k * 2**k)\n",
    "\n",
    "        neighbors = [\n",
    "            (x, y, z+1),  # góra\n",
    "            (x, y, z-1),  # dół\n",
    "            (x-1, y, z),  # lewo\n",
    "            (x+1, y, z),  # prawo\n",
    "            (x, y-1, z),  # przód\n",
    "            (x, y+1, z)   # tył\n",
    "        ]\n",
    "\n",
    "        for (nx, ny, nz) in neighbors:\n",
    "            if within_bounds(nx, ny, nz):\n",
    "                neighbor_index = nx + ny * 2**k + nz * 2**k * 2**k\n",
    "                rows.append(i)\n",
    "                cols.append(neighbor_index)\n",
    "\n",
    "    adjacency_matrix = csr_matrix((np.ones(len(rows)), (rows, cols)), shape=(size, size))\n",
    "    return adjacency_matrix\n",
    "\n",
    "\n",
    "\n",
    "m = generate_sparse_matrix(3)\n",
    "show_array(m, \"\")"
   ]
  },
  {
   "cell_type": "code",
   "execution_count": 3,
   "outputs": [],
   "source": [],
   "metadata": {
    "collapsed": false
   }
  }
 ],
 "metadata": {
  "kernelspec": {
   "display_name": "Python 3",
   "language": "python",
   "name": "python3"
  },
  "language_info": {
   "codemirror_mode": {
    "name": "ipython",
    "version": 2
   },
   "file_extension": ".py",
   "mimetype": "text/x-python",
   "name": "python",
   "nbconvert_exporter": "python",
   "pygments_lexer": "ipython2",
   "version": "2.7.6"
  }
 },
 "nbformat": 4,
 "nbformat_minor": 0
}
