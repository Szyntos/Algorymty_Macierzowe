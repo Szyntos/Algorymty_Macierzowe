{
 "cells": [
  {
   "cell_type": "code",
   "execution_count": 67,
   "metadata": {
    "collapsed": true
   },
   "outputs": [],
   "source": [
    "import numpy as np\n",
    "from numpy.linalg import matrix_rank\n",
    "import random\n",
    "import scipy\n",
    "from scipy import sparse\n",
    "from scipy import stats\n",
    "import matplotlib.pyplot as plt\n",
    "import time\n",
    "import pandas as pd\n",
    "import ast"
   ]
  },
  {
   "cell_type": "code",
   "execution_count": 68,
   "outputs": [],
   "source": [
    "class Node:\n",
    "    def __init__(self):\n",
    "        self.rank = None\n",
    "        self.size = None\n",
    "        self.singular_values = None\n",
    "        self.U = None\n",
    "        self.V = None\n",
    "        self.sons = None\n",
    "\n",
    "class Graph:\n",
    "    def __init__(self, M):\n",
    "        self.M = M\n",
    "        self.V = set()\n",
    "        self.E = set()\n",
    "        self.create_elimination_graph_from_matrix()\n",
    "    def create_elimination_graph_from_matrix(self):\n",
    "        self.V = set([i for i in range(self.M.shape[0])])\n",
    "        E = []\n",
    "        for v in self.V:\n",
    "            for u in self.V:\n",
    "                if self.M[v, u] != 0:\n",
    "                    E.append((v, u))\n",
    "        self.E = set(E)\n",
    "    def get_min_degree_vertex(self):\n",
    "        min_degree = float('inf')\n",
    "        min_degree_vertex = None\n",
    "        for v in self.V:\n",
    "            degree = self.get_degree(v, self.E)\n",
    "            if degree < min_degree:\n",
    "                min_degree = degree\n",
    "                min_degree_vertex = v\n",
    "        return min_degree_vertex\n",
    "    def get_degree(self, v, E):\n",
    "        return len(self.get_neighbors(v))\n",
    "    def get_neighbors(self, v):\n",
    "        neighbors = []\n",
    "        for u in self.V:\n",
    "            if (v, u) in self.E:\n",
    "                neighbors.append(u)\n",
    "        return neighbors"
   ],
   "metadata": {
    "collapsed": false
   }
  },
  {
   "cell_type": "code",
   "execution_count": 69,
   "outputs": [],
   "source": [
    "def bound(a, b, value):\n",
    "    if a > b:\n",
    "        a, b = b, a\n",
    "    return max(a, min(value, b))\n",
    "\n",
    "def compare(A, B):\n",
    "    return np.allclose(np.array(A, dtype=float), np.array(B, dtype=float), rtol=1e-05,\n",
    "                           atol=1e-08, equal_nan=False)\n",
    "def create_M(n):\n",
    "    return np.array([[(random.uniform(0.00000001, 1)) for _ in range(n)] for _ in range(n)])\n",
    "def create_sparse(n, density):\n",
    "    rng = np.random.default_rng()\n",
    "    A = sparse.random(n, n, density=density, random_state=rng)\n",
    "    return np.array(A.A)\n",
    "def matrix_partition(A):\n",
    "    n = A.shape[0] // 2\n",
    "    m = A.shape[1] // 2\n",
    "    A11 = A[:n, :m]\n",
    "    A12 = A[:n, m:]\n",
    "    A21 = A[n:, :m]\n",
    "    A22 = A[n:, m:]\n",
    "    return A11, A12, A21, A22\n",
    "\n",
    "def matrix_repartition(A11, A12, A21, A22):\n",
    "    C = np.block([[A11, A12],\n",
    "                  [A21, A22]])\n",
    "    return C\n",
    "def find_s_index_for_delta(s, delta):\n",
    "    if s.size == 0:\n",
    "        return 0\n",
    "    if s[0] <= delta:\n",
    "        return 0\n",
    "    for i in range(len(s)):\n",
    "        if s[i] <= delta:\n",
    "            return i\n",
    "    return len(s)-1\n",
    "def truncated_SVD(A, delta, b):\n",
    "    b = b-1\n",
    "    U, s, V = np.linalg.svd(A)\n",
    "    i = find_s_index_for_delta(s, delta)\n",
    "    idx = min(i, b, len(s))\n",
    "    return U[:, :idx + 1], s[:idx+1], V[:idx + 1, :]\n",
    "    # return randomized_svd(A, n_components=b)\n",
    "def show_array(repr, name, zeros=False):\n",
    "    if zeros:\n",
    "        plt.spy((repr != 0).astype(int))\n",
    "    else:\n",
    "        plt.spy(repr)\n",
    "    plt.grid(False)\n",
    "    plt.title(name)\n",
    "    plt.show()\n",
    "    # plt.savefig(\"plots/\"+name+\".png\")\n",
    "\n",
    "def show_arrays(repr1, repr2, zeros=False):\n",
    "    plt.figure(figsize=(10, 5))\n",
    "    plt.subplot(1, 2, 1)\n",
    "    if zeros:\n",
    "        plt.spy((repr1 != 0).astype(int))\n",
    "    else:\n",
    "        plt.spy(repr1)\n",
    "    plt.colorbar()\n",
    "    plt.grid(False)\n",
    "    plt.title('Array 1')\n",
    "\n",
    "    # Plot the second array\n",
    "    plt.subplot(1, 2, 2)\n",
    "    if zeros:\n",
    "        plt.spy((repr2 != 0).astype(int))\n",
    "    else:\n",
    "        plt.spy(repr2)\n",
    "    plt.colorbar()\n",
    "    plt.title('Array 2')\n",
    "    plt.grid(False)\n",
    "    plt.tight_layout()\n",
    "    plt.show()\n",
    "\n",
    "def U_V_to_array(U, V):\n",
    "    n = U.shape[0]\n",
    "    m = U.shape[1]\n",
    "    repr = np.zeros((n, n))\n",
    "    repr[:n, :m] = U\n",
    "    repr[:m, :n] = V\n",
    "    return repr\n",
    "def MSE(A, B):\n",
    "    return ((A - B)**2).mean()\n",
    "\n",
    "from scipy.sparse import csr_matrix\n",
    "\n",
    "def generate_sparse_matrix(k):\n",
    "    size = 2**(3*k)\n",
    "    rows = []\n",
    "    cols = []\n",
    "\n",
    "    def within_bounds(x, y, z):\n",
    "        return 0 <= x < 2**k and 0 <= y < 2**k and 0 <= z < 2**k\n",
    "\n",
    "    for i in range(size):\n",
    "        x = i % (2**k)\n",
    "        y = (i // (2**k)) % (2**k)\n",
    "        z = i // (2**k * 2**k)\n",
    "\n",
    "        neighbors = [\n",
    "            (x, y, z+1),\n",
    "            (x, y, z-1),\n",
    "            (x-1, y, z),\n",
    "            (x+1, y, z),\n",
    "            (x, y-1, z),\n",
    "            (x, y+1, z)\n",
    "        ]\n",
    "\n",
    "        for (nx, ny, nz) in neighbors:\n",
    "            if within_bounds(nx, ny, nz):\n",
    "                neighbor_index = nx + ny * 2**k + nz * 2**k * 2**k\n",
    "                rows.append(i)\n",
    "                cols.append(neighbor_index)\n",
    "\n",
    "    adjacency_matrix = csr_matrix((np.random.uniform(size=len(rows)), (rows, cols)), shape=(size, size))\n",
    "    return adjacency_matrix\n",
    "\n"
   ],
   "metadata": {
    "collapsed": false
   }
  },
  {
   "cell_type": "code",
   "execution_count": 69,
   "outputs": [],
   "source": [],
   "metadata": {
    "collapsed": false
   }
  },
  {
   "cell_type": "code",
   "execution_count": 70,
   "outputs": [],
   "source": [
    "def compress_matrix(A, delta, b):\n",
    "    if not np.any(A):\n",
    "        v = Node()\n",
    "        v.rank = 0\n",
    "        v.size = A.shape\n",
    "        return v\n",
    "    U, s, V = truncated_SVD(A, delta, b)\n",
    "    rank = matrix_rank(s)\n",
    "    v = Node()\n",
    "    v.rank = rank\n",
    "    v.U = U * s\n",
    "    v.V = V\n",
    "    v.size = A.shape\n",
    "    return v\n",
    "def create_tree(A, r, e):\n",
    "    r = bound(min(A.shape[0], A.shape[1]), 0, r+1)\n",
    "    U, s, V = truncated_SVD(A, e, r + 1)\n",
    "    if s[-1] < e or U.shape[0] <= r:\n",
    "        v = compress_matrix(A, e, r)\n",
    "    else:\n",
    "        v = Node()\n",
    "        A11, A12, A21, A22 = matrix_partition(A)\n",
    "        v.sons = [create_tree(A11, r, e),\n",
    "                  create_tree(A12, r, e),\n",
    "                  create_tree(A21, r, e),\n",
    "                  create_tree(A22, r, e)]\n",
    "    return v\n",
    "def recover_matrix(v):\n",
    "    if v.sons:\n",
    "        m = matrix_repartition(recover_matrix(v.sons[0]), recover_matrix(v.sons[1]),\n",
    "                               recover_matrix(v.sons[2]), recover_matrix(v.sons[3]))\n",
    "    elif v.rank == 0:\n",
    "        m = np.zeros(v.size)\n",
    "    else:\n",
    "        m = v.U @ v.V\n",
    "    return m\n",
    "def tree_to_repr(v):\n",
    "    if v.sons:\n",
    "        m = matrix_repartition(tree_to_repr(v.sons[0]), tree_to_repr(v.sons[1]),\n",
    "                               tree_to_repr(v.sons[2]), tree_to_repr(v.sons[3]))\n",
    "    elif v.rank == 0:\n",
    "        m = np.zeros(v.size)\n",
    "    else:\n",
    "        m = U_V_to_array(v.U, v.V)\n",
    "    return m"
   ],
   "metadata": {
    "collapsed": false
   }
  },
  {
   "cell_type": "code",
   "execution_count": 70,
   "outputs": [],
   "source": [],
   "metadata": {
    "collapsed": false
   }
  },
  {
   "cell_type": "code",
   "execution_count": 71,
   "outputs": [],
   "source": [
    "def stat_functions(nonzero_percentages):\n",
    "    df_ss = pd.DataFrame()\n",
    "    df_times = pd.DataFrame()\n",
    "    df_repr = pd.DataFrame()\n",
    "    df_msa = pd.DataFrame()\n",
    "    for val in nonzero_percentages:\n",
    "        A = create_sparse(2**10, val)\n",
    "        U, s, V = np.linalg.svd(A)\n",
    "        sigmas = {\"sigma_two\":s[1], \"sigma_half\":s[len(s)//2], \"sigma_last\":s[-1]}\n",
    "        bs = {\"b_1\":1, \"b_4\":4}\n",
    "        # add s to dataframe\n",
    "        df_ss = df_ss._append({\"nonzero_percentage\":val, \"s\":s}, ignore_index=True)\n",
    "        for sigma_name, sigma in sigmas.items():\n",
    "            for b_name, b in bs.items():\n",
    "                print(val, b_name, sigma_name, end=\" \")\n",
    "                start_time = time.time()\n",
    "                tree = create_tree(A, b, sigma)\n",
    "                # add time to dataframe\n",
    "                df_times = df_times._append({\"nonzero_percentage\":val, \"b\":b_name, \"sigma\":sigma_name,\n",
    "                                            \"time\":time.time() - start_time}, ignore_index=True)\n",
    "                # add repr to dataframe\n",
    "                df_repr = df_repr._append({\"nonzero_percentage\":val, \"b\":b_name, \"sigma\":sigma_name,\n",
    "                                            \"repr\":tree_to_repr(tree)}, ignore_index=True)\n",
    "                B = recover_matrix(tree)\n",
    "                df_msa = df_msa._append({\"nonzero_percentage\":val, \"b\":b_name, \"sigma\":sigma_name,\n",
    "                                            \"msa\":MSE(A, B)}, ignore_index=True)\n",
    "\n",
    "    return df_ss, df_times, df_repr, df_msa"
   ],
   "metadata": {
    "collapsed": false
   }
  },
  {
   "cell_type": "code",
   "execution_count": 72,
   "outputs": [
    {
     "name": "stdout",
     "output_type": "stream",
     "text": [
      "  (0, 1)\t0.29051293964723834\n",
      "  (0, 2)\t0.8087710787837474\n",
      "  (0, 4)\t0.16770177506070283\n",
      "  (1, 0)\t0.632486742992054\n",
      "  (1, 3)\t0.10168619241289167\n",
      "  (1, 5)\t0.5606651154867371\n",
      "  (2, 0)\t0.0153808212746126\n",
      "  (2, 3)\t0.11606132277128445\n",
      "  (2, 6)\t0.5313008208507073\n",
      "  (3, 1)\t0.16222728597795966\n",
      "  (3, 2)\t0.3456565231301657\n",
      "  (3, 7)\t0.42500190163805895\n",
      "  (4, 0)\t0.12898572802793729\n",
      "  (4, 5)\t0.5988068667838073\n",
      "  (4, 6)\t0.4502122157563313\n",
      "  (5, 1)\t0.6690156841240982\n",
      "  (5, 4)\t0.05981988831721552\n",
      "  (5, 7)\t0.26846496055229196\n",
      "  (6, 2)\t0.5235586387292419\n",
      "  (6, 4)\t0.21313118564727196\n",
      "  (6, 7)\t0.23877607670966283\n",
      "  (7, 3)\t0.79019564674409\n",
      "  (7, 5)\t0.4541400494489909\n",
      "  (7, 6)\t0.43210536055272686\n"
     ]
    },
    {
     "data": {
      "text/plain": "<Figure size 640x480 with 1 Axes>",
      "image/png": "[encoded data removed]"
     },
     "metadata": {},
     "output_type": "display_data"
    }
   ],
   "source": [
    "\n",
    "m = generate_sparse_matrix(1)\n",
    "\n",
    "print(m)\n",
    "show_array(m.toarray(), \"\")\n",
    "G = Graph(m)"
   ],
   "metadata": {
    "collapsed": false
   }
  },
  {
   "cell_type": "code",
   "execution_count": 73,
   "outputs": [
    {
     "data": {
      "text/plain": "24"
     },
     "execution_count": 73,
     "metadata": {},
     "output_type": "execute_result"
    }
   ],
   "source": [
    "len(G.E)"
   ],
   "metadata": {
    "collapsed": false
   }
  },
  {
   "cell_type": "code",
   "execution_count": null,
   "outputs": [],
   "source": [
    "def asymmetrical_elimination(M):\n",
    "    G = Graph(M)\n",
    "    for k in range(M.shape[0]):\n",
    "        succ = {e[1] for e in G.E if e[0] == k}\n",
    "        pred = {e[0] for e in G.E if e[1] == k}\n",
    "        G.V = G.V.difference({k})\n",
    "        G.E = G.E.difference({e for e in G.E if e[1] in succ})\n",
    "        G.E = G.E.difference({e for e in G.E if e[0] in pred})\n",
    "        G.E.update({(x, y) for x in pred for y in succ})\n",
    "\n",
    "\n",
    "\n",
    "# print(m.shape)"
   ],
   "metadata": {
    "collapsed": false
   }
  },
  {
   "cell_type": "code",
   "execution_count": 96,
   "outputs": [],
   "source": [
    "def minimum_degree(G : Graph):\n",
    "    for k in range(G.M.shape[0]):\n",
    "\n",
    "        p = G.get_min_degree_vertex()\n",
    "        for v in G.get_neighbors(p):\n",
    "\n"
   ],
   "metadata": {
    "collapsed": false
   }
  },
  {
   "cell_type": "code",
   "execution_count": 75,
   "outputs": [],
   "source": [
    "# df_ss, df_times, df_repr, df_msa = stat_functions([0.01, 0.02, 0.05, 0.1, 0.2])"
   ],
   "metadata": {
    "collapsed": false
   }
  },
  {
   "cell_type": "code",
   "execution_count": 76,
   "outputs": [],
   "source": [
    "# df_times.to_csv(\"df_times.csv\", index=True)\n",
    "# df_msa.to_csv(\"df_msa.csv\", index=True)\n",
    "# df_times = pd.read_csv(\"df_times.csv\", index_col=0)\n",
    "# df_msa = pd.read_csv(\"df_msa.csv\", index_col=0)\n",
    "# def plot_s_values(df, first=False):\n",
    "#     plt.figure(figsize=(8, 6))\n",
    "#     for index, row in df.iterrows():\n",
    "#         if first:\n",
    "#             plt.plot(row['s'], label=f\"Nonzero Percentage: {row['nonzero_percentage']}\")\n",
    "#         else:\n",
    "#             plt.plot(row['s'][1:], label=f\"Nonzero Percentage: {row['nonzero_percentage']}\")\n",
    "#\n",
    "#     plt.xlabel('Singular Value Index')\n",
    "#     plt.ylabel('Singular Value')\n",
    "#     plt.legend()\n",
    "#     if first:\n",
    "#         plt.title('Singular Values vs Nonzero Percentage')\n",
    "#     else:\n",
    "#         plt.title('Singular Values (without first) vs Nonzero Percentage')\n",
    "#     plt.show()\n",
    "# plot_s_values(df_ss)\n",
    "# plot_s_values(df_ss, True)\n",
    "# df_ss"
   ],
   "metadata": {
    "collapsed": false
   }
  },
  {
   "cell_type": "code",
   "execution_count": 76,
   "outputs": [],
   "source": [],
   "metadata": {
    "collapsed": false
   }
  },
  {
   "cell_type": "code",
   "execution_count": 77,
   "outputs": [],
   "source": [
    "# def plot_times(df_times):\n",
    "#     plt.figure(figsize=(8, 6))\n",
    "#     for b_name in df_times['b'].unique():\n",
    "#         for sigma_name in df_times['sigma'].unique():\n",
    "#\n",
    "#             # plot with points and lines\n",
    "#             plt.plot(df_times[(df_times['b'] == b_name) & (df_times['sigma'] == sigma_name)]['nonzero_percentage'],\n",
    "#                      df_times[(df_times['b'] == b_name) & (df_times['sigma'] == sigma_name)]['time'],\n",
    "#                      label=f\"b: {b_name[-1]}, delta: {sigma_name}\")\n",
    "#             plt.scatter(df_times[(df_times['b'] == b_name) & (df_times['sigma'] == sigma_name)]['nonzero_percentage'], df_times[(df_times['b'] == b_name) & (df_times['sigma'] == sigma_name)]['time'])\n",
    "#\n",
    "#\n",
    "#     plt.xlabel('Nonzero Percentage')\n",
    "#     plt.ylabel('Time')\n",
    "#     plt.legend()\n",
    "#     plt.title('Time vs Nonzero Percentage')\n",
    "#     plt.show()\n",
    "#\n",
    "# plot_times(df_times)"
   ],
   "metadata": {
    "collapsed": false
   }
  },
  {
   "cell_type": "code",
   "execution_count": 78,
   "outputs": [],
   "source": [
    "# def plot_msa(df_msa, log=True):\n",
    "#     plt.figure(figsize=(8, 6))\n",
    "#     for b_name in df_msa['b'].unique():\n",
    "#         for sigma_name in df_msa['sigma'].unique():\n",
    "#\n",
    "#             # plot with points and lines\n",
    "#             plt.plot(df_msa[(df_msa['b'] == b_name) & (df_msa['sigma'] == sigma_name)]['nonzero_percentage'],\n",
    "#                      df_msa[(df_msa['b'] == b_name) & (df_msa['sigma'] == sigma_name)]['msa'],\n",
    "#                      label=f\"b: {b_name[-1]}, delta: {sigma_name}\")\n",
    "#             plt.scatter(df_msa[(df_msa['b'] == b_name) & (df_msa['sigma'] == sigma_name)]['nonzero_percentage'], df_msa[(df_msa['b'] == b_name) & (df_msa['sigma'] == sigma_name)]['msa'])\n",
    "#     # add log scale\n",
    "#\n",
    "#     if log:\n",
    "#         plt.yscale('log')\n",
    "#\n",
    "#     plt.xlabel('Nonzero Percentage')\n",
    "#     plt.ylabel('MSA')\n",
    "#     plt.legend()\n",
    "#     plt.title('MSA vs Nonzero Percentage')\n",
    "#     plt.show()\n",
    "#\n",
    "# plot_msa(df_msa)\n",
    "# plot_msa(df_msa, False)"
   ],
   "metadata": {
    "collapsed": false
   }
  },
  {
   "cell_type": "code",
   "execution_count": 79,
   "outputs": [],
   "source": [
    "# def plot_repr(df_repr):\n",
    "#     plt.figure(figsize=(8, 6))\n",
    "#     for b_name in df_repr['b'].unique():\n",
    "#         for sigma_name in df_repr['sigma'].unique():\n",
    "#             for nonzero_percentage in df_repr['nonzero_percentage'].unique():\n",
    "#                 print(b_name, sigma_name, nonzero_percentage)\n",
    "#                 show_array(df_repr[(df_repr['b'] == b_name) & (df_repr['sigma'] == sigma_name) & (df_repr['nonzero_percentage'] == nonzero_percentage)]['repr'].iloc[0], f\"nonzero_percentage_{nonzero_percentage}_sigma_{sigma_name}_b_{b_name[-1]}\", True)\n",
    "#\n",
    "#\n",
    "# plot_repr(df_repr)"
   ],
   "metadata": {
    "collapsed": false
   }
  }
 ],
 "metadata": {
  "kernelspec": {
   "name": "psi",
   "language": "python",
   "display_name": "PSI"
  },
  "language_info": {
   "codemirror_mode": {
    "name": "ipython",
    "version": 2
   },
   "file_extension": ".py",
   "mimetype": "text/x-python",
   "name": "python",
   "nbconvert_exporter": "python",
   "pygments_lexer": "ipython2",
   "version": "2.7.6"
  }
 },
 "nbformat": 4,
 "nbformat_minor": 0
}
