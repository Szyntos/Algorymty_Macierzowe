{
 "cells": [
  {
   "cell_type": "code",
   "execution_count": 1,
   "metadata": {
    "collapsed": true,
    "ExecuteTime": {
     "end_time": "2023-11-11T00:38:20.815599200Z",
     "start_time": "2023-11-11T00:38:20.805593900Z"
    }
   },
   "outputs": [],
   "source": [
    "import numpy as np\n",
    "from collections import Counter\n",
    "import pandas as pd\n",
    "from time import time\n",
    "import matplotlib.pyplot as plt\n",
    "import seaborn as sns\n",
    "from numpy.polynomial import Polynomial"
   ]
  },
  {
   "cell_type": "code",
   "execution_count": 2,
   "outputs": [
    {
     "name": "stdout",
     "output_type": "stream",
     "text": [
      "45.0 Counter({'add': 6, 'mul': 0})\n"
     ]
    }
   ],
   "source": [
    "class Num(float):\n",
    "    counts = Counter(mul=0, add=0)\n",
    "    def __add__(self, other):\n",
    "        self.counts[\"add\"] += 1\n",
    "        return Num(super(Num, self).__add__(other))\n",
    "    def __mul__(self, other):\n",
    "        self.counts[\"mul\"] += 1\n",
    "        return Num(super(Num, self).__mul__(other))\n",
    "    def __sub__(self, other):\n",
    "        self.counts[\"add\"] += 1\n",
    "        return Num(super(Num, self).__sub__(other))\n",
    "    def reset_counter(self):\n",
    "        self.counts[\"mul\"] = 0\n",
    "        self.counts[\"add\"] = 0\n",
    "\n",
    "\n",
    "n = Num(9)\n",
    "m = Num(18)\n",
    "m += Num(18)\n",
    "n += m\n",
    "\n",
    "j = Num(90)\n",
    "j += 1\n",
    "j += 1\n",
    "j += 1\n",
    "j += 1\n",
    "print(n, m.counts)\n",
    "\n",
    "j.reset_counter()"
   ],
   "metadata": {
    "collapsed": false,
    "ExecuteTime": {
     "end_time": "2023-11-11T00:38:20.835667500Z",
     "start_time": "2023-11-11T00:38:20.815599200Z"
    }
   }
  },
  {
   "cell_type": "code",
   "execution_count": 3,
   "outputs": [],
   "source": [
    "class MatrixMultiplier:\n",
    "\n",
    "    def __init__(self, A, B):\n",
    "        self.A = A\n",
    "        self.B = B\n",
    "        self.result = np.zeros((1, 1), dtype=A.dtype)\n",
    "        filename = 'factorizations_r.npz'\n",
    "        with open(filename, 'rb') as f:\n",
    "            self.factorizations = dict(np.load(f, allow_pickle=True))\n",
    "\n",
    "    def is_power_of_two(self, n):\n",
    "        if n == 1 or n == 0:\n",
    "            return 0\n",
    "        return (n & (n - 1)) == 0\n",
    "\n",
    "    def matrix_partition_sq2(self, A):\n",
    "        n = A.shape[0] // 2\n",
    "        A11 = A[:n, :n]\n",
    "        A12 = A[:n, n:]\n",
    "        A21 = A[n:, :n]\n",
    "        A22 = A[n:, n:]\n",
    "        return A11, A12, A21, A22\n",
    "\n",
    "    def matrix_repartition_sq2(self, A11, A12, A21, A22):\n",
    "        C = np.block([[A11, A12],\n",
    "                      [A21, A22]])\n",
    "        return C\n",
    "\n",
    "    def iterative_wrap(self, A, B):\n",
    "        C = np.zeros((1, 1), dtype=A.dtype)\n",
    "\n",
    "        if A.shape[0] == A.shape[1] and A.shape[1] == B.shape[0] and B.shape[0] == B.shape[1]:\n",
    "            C = np.zeros((A.shape[0], B.shape[1]))\n",
    "            for i in range(A.shape[0]):\n",
    "                for j in range(B.shape[1]):\n",
    "                    s = Num(0)\n",
    "                    for k in range(B.shape[0]):\n",
    "                        s += A[i, k] * B[k, j]\n",
    "                    C[i, j] = s\n",
    "        self.result = C\n",
    "        return C\n",
    "\n",
    "    def binet_wrap(self, A, B):\n",
    "        C = np.zeros((1, 1), dtype=A.dtype)\n",
    "\n",
    "        if A.shape[0] == A.shape[1] and A.shape[1] == B.shape[0] and B.shape[0] == B.shape[1]:\n",
    "            if A.shape[0] == 1:\n",
    "                return np.array([[Num(A[0, 0] * B[0, 0])]], dtype=Num)\n",
    "            elif self.is_power_of_two(B.shape[0]):\n",
    "                A11, A12, A21, A22 = self.matrix_partition_sq2(A)\n",
    "                B11, B12, B21, B22 = self.matrix_partition_sq2(B)\n",
    "                C = self.matrix_repartition_sq2(self.binet_wrap(A11, B11) + self.binet_wrap(A12, B21),\n",
    "                                                self.binet_wrap(A11, B12) + self.binet_wrap(A12, B22),\n",
    "                                                self.binet_wrap(A21, B11) + self.binet_wrap(A22, B21),\n",
    "                                                self.binet_wrap(A21, B12) + self.binet_wrap(A22, B22))\n",
    "\n",
    "        return C\n",
    "    def strassen_wrap(self, A, B):\n",
    "        C = np.zeros((1, 1), dtype=A.dtype)\n",
    "\n",
    "        if A.shape[0] == A.shape[1] and A.shape[1] == B.shape[0] and B.shape[0] == B.shape[1]:\n",
    "            if A.shape[0] == 1:\n",
    "                return np.array([[Num(A[0, 0] * B[0, 0])]], dtype=Num)\n",
    "            elif B.shape[0] > 1 and (B.shape[0] & (B.shape[0] - 1)) == 0:\n",
    "                A11, A12, A21, A22 = self.matrix_partition_sq2(A)\n",
    "                B11, B12, B21, B22 = self.matrix_partition_sq2(B)\n",
    "                P1 = self.strassen_wrap(A11 + A22, B11 + B22)\n",
    "                P2 = self.strassen_wrap(A21 + A22, B11)\n",
    "                P3 = self.strassen_wrap(A11, B12 - B22)\n",
    "                P4 = self.strassen_wrap(A22, B21 - B11)\n",
    "                P5 = self.strassen_wrap(A11 + A12, B22)\n",
    "                P6 = self.strassen_wrap(A21 - A11, B11 + B12)\n",
    "                P7 = self.strassen_wrap(A12 - A22, B21 + B22)\n",
    "\n",
    "                C = self.matrix_repartition_sq2(P1 + P4 - P5 + P7, P3 + P5,\n",
    "                               P2 + P4, P1 - P2 + P3 + P6)\n",
    "\n",
    "        return C\n",
    "    \n",
    "    \n",
    "    \n",
    "\n",
    "    def algorithm_from_factors(self, factors: np.ndarray, n, m, k):\n",
    "        assert factors[0].shape[0] == factors[1].shape[0]\n",
    "        assert factors[1].shape[0] == factors[2].shape[0]\n",
    "        factors = [factors[0].copy(), factors[1].copy(), factors[2].copy()]\n",
    "        rank = factors[0].shape[-1]\n",
    "        factors[0] = factors[0].reshape(n, m, rank)\n",
    "        factors[1] = factors[1].reshape(m, k, rank)\n",
    "        factors[2] = factors[2].reshape(k, n, rank)\n",
    "        factors[2] = factors[2].transpose(1, 0, 2)\n",
    "    \n",
    "        def f(a, b):\n",
    "            n = a.shape[0]\n",
    "            m = a.shape[1]\n",
    "            l = b.shape[1]\n",
    "            \n",
    "            result = [[None] * l for _ in range(n)]\n",
    "            for alpha in range(rank):\n",
    "                left = None\n",
    "                for i in range(n):\n",
    "                    for j in range(m):\n",
    "                        if factors[0][i, j, alpha] != 0:\n",
    "                            curr = factors[0][i, j, alpha] * a[i][j]\n",
    "                            if left is None:\n",
    "                                left = curr\n",
    "                            else:\n",
    "                                left += curr\n",
    "                right = None\n",
    "                for j in range(m):\n",
    "                    for k in range(l):\n",
    "                        if factors[1][j, k, alpha] != 0:\n",
    "                            curr = factors[1][j, k, alpha] * b[j][k]\n",
    "                            if right is None:\n",
    "                                right = curr\n",
    "                            else:\n",
    "                                right += curr\n",
    "    \n",
    "                matrix_product = left * right\n",
    "    \n",
    "                for i in range(n):\n",
    "                    for k in range(l):\n",
    "                        if factors[2][i, k, alpha] != 0:\n",
    "                            curr = factors[2][i, k, alpha] * matrix_product\n",
    "                            if result[i][k] is None:\n",
    "                                result[i][k] = curr\n",
    "                            else:\n",
    "                                result[i][k] += curr\n",
    "            return result\n",
    "        return f\n",
    "    \n",
    "    \n",
    "  \n",
    "    def iterative(self):\n",
    "        self.result = self.iterative_wrap(self.A, self.B)\n",
    "        return self.result\n",
    "\n",
    "    def strassen(self):\n",
    "        self.result = self.strassen_wrap(self.A, self.B)\n",
    "        return self.result\n",
    "\n",
    "    def binet(self):\n",
    "        self.result = self.binet_wrap(self.A, self.B)\n",
    "        return self.result\n",
    "    \n",
    "    def alphatensor(self):\n",
    "        A = self.A\n",
    "        B = self.B\n",
    "        assert A.shape[1] == B.shape[0]\n",
    "        n = A.shape[0]\n",
    "        m = A.shape[1]\n",
    "        k = B.shape[1]\n",
    "        factors = self.factorizations[str(n) + ',' + str(m) + ',' + str(k)]\n",
    "        matrix_mul_algorithm = self.algorithm_from_factors(factors, n, m, k)\n",
    "        return matrix_mul_algorithm(A, B), factors[0].shape[-1]\n",
    "\n",
    "    def reset_counter(self):\n",
    "        Num().reset_counter()\n",
    "    def check(self):\n",
    "        return np.allclose(np.array(self.result, dtype=float), np.array(self.A@self.B, dtype=float), rtol=1e-05, atol=1e-08, equal_nan=False)\n",
    "    def get_current_flops(self):\n",
    "        return Num().counts\n"
   ],
   "metadata": {
    "collapsed": false,
    "ExecuteTime": {
     "end_time": "2023-11-11T00:38:20.865567Z",
     "start_time": "2023-11-11T00:38:20.855667800Z"
    }
   }
  },
  {
   "cell_type": "code",
   "execution_count": 4,
   "outputs": [],
   "source": [
    "def create_M_2(n):\n",
    "    n = 2 ** n\n",
    "    return np.array([[Num((j * n + i + 1)/(n*n)) for i in range(n)] for j in range(n)], dtype=Num)"
   ],
   "metadata": {
    "collapsed": false,
    "ExecuteTime": {
     "end_time": "2023-11-11T00:38:20.875570400Z",
     "start_time": "2023-11-11T00:38:20.865567Z"
    }
   }
  },
  {
   "cell_type": "code",
   "execution_count": 5,
   "outputs": [
    {
     "name": "stdout",
     "output_type": "stream",
     "text": [
      "Counter({'add': 12870, 'mul': 2401})\n",
      "Counter({'mul': 4096, 'add': 3840})\n"
     ]
    }
   ],
   "source": [
    "A = create_M_2(4)\n",
    "B = create_M_2(4)\n",
    "M = MatrixMultiplier(A, B)\n",
    "M.reset_counter()\n",
    "M.strassen()\n",
    "print(M.get_current_flops())\n",
    "M.reset_counter()\n",
    "M.binet()\n",
    "print(M.get_current_flops())"
   ],
   "metadata": {
    "collapsed": false,
    "ExecuteTime": {
     "end_time": "2023-11-11T00:38:21.090543300Z",
     "start_time": "2023-11-11T00:38:20.875570400Z"
    }
   }
  },
  {
   "cell_type": "code",
   "execution_count": 6,
   "outputs": [],
   "source": [
    "def test_functions(bound):\n",
    "    df = pd.DataFrame()\n",
    "    MM = MatrixMultiplier(create_M_2(1), create_M_2(1))\n",
    "    for n in range(2, bound):\n",
    "        MM.A, MM.B = create_M_2(n), create_M_2(n)\n",
    "        methods = {\"Iterative\":MM.iterative, \"Binet\":MM.binet, \"Strassen\":MM.strassen, \"AlphaTensor\": MM.alphatensor}\n",
    "        for method_name, method in methods.items():\n",
    "            print(n, method_name)\n",
    "            method()\n",
    "            df.at[n, method_name] = MM.check()\n",
    "    return df"
   ],
   "metadata": {
    "collapsed": false,
    "ExecuteTime": {
     "end_time": "2023-11-11T00:38:21.100544700Z",
     "start_time": "2023-11-11T00:38:21.090543300Z"
    }
   }
  },
  {
   "cell_type": "code",
   "execution_count": 14,
   "outputs": [
    {
     "name": "stdout",
     "output_type": "stream",
     "text": [
      "2 Iterative\n",
      "2 Binet\n",
      "2 Strassen\n",
      "2 AlphaTensor\n",
      "3 Iterative\n",
      "3 Binet\n",
      "3 Strassen\n",
      "3 AlphaTensor\n"
     ]
    },
    {
     "ename": "KeyError",
     "evalue": "'8,8,8'",
     "output_type": "error",
     "traceback": [
      "\u001B[1;31m---------------------------------------------------------------------------\u001B[0m",
      "\u001B[1;31mKeyError\u001B[0m                                  Traceback (most recent call last)",
      "Cell \u001B[1;32mIn [14], line 1\u001B[0m\n\u001B[1;32m----> 1\u001B[0m test_functions(\u001B[38;5;241m4\u001B[39m)\n",
      "Cell \u001B[1;32mIn [6], line 9\u001B[0m, in \u001B[0;36mtest_functions\u001B[1;34m(bound)\u001B[0m\n\u001B[0;32m      7\u001B[0m     \u001B[38;5;28;01mfor\u001B[39;00m method_name, method \u001B[38;5;129;01min\u001B[39;00m methods\u001B[38;5;241m.\u001B[39mitems():\n\u001B[0;32m      8\u001B[0m         \u001B[38;5;28mprint\u001B[39m(n, method_name)\n\u001B[1;32m----> 9\u001B[0m         \u001B[43mmethod\u001B[49m\u001B[43m(\u001B[49m\u001B[43m)\u001B[49m\n\u001B[0;32m     10\u001B[0m         df\u001B[38;5;241m.\u001B[39mat[n, method_name] \u001B[38;5;241m=\u001B[39m MM\u001B[38;5;241m.\u001B[39mcheck()\n\u001B[0;32m     11\u001B[0m \u001B[38;5;28;01mreturn\u001B[39;00m df\n",
      "Cell \u001B[1;32mIn [3], line 153\u001B[0m, in \u001B[0;36mMatrixMultiplier.alphatensor\u001B[1;34m(self)\u001B[0m\n\u001B[0;32m    151\u001B[0m m \u001B[38;5;241m=\u001B[39m A\u001B[38;5;241m.\u001B[39mshape[\u001B[38;5;241m1\u001B[39m]\n\u001B[0;32m    152\u001B[0m k \u001B[38;5;241m=\u001B[39m B\u001B[38;5;241m.\u001B[39mshape[\u001B[38;5;241m1\u001B[39m]\n\u001B[1;32m--> 153\u001B[0m factors \u001B[38;5;241m=\u001B[39m \u001B[38;5;28;43mself\u001B[39;49m\u001B[38;5;241;43m.\u001B[39;49m\u001B[43mfactorizations\u001B[49m\u001B[43m[\u001B[49m\u001B[38;5;28;43mstr\u001B[39;49m\u001B[43m(\u001B[49m\u001B[43mn\u001B[49m\u001B[43m)\u001B[49m\u001B[43m \u001B[49m\u001B[38;5;241;43m+\u001B[39;49m\u001B[43m \u001B[49m\u001B[38;5;124;43m'\u001B[39;49m\u001B[38;5;124;43m,\u001B[39;49m\u001B[38;5;124;43m'\u001B[39;49m\u001B[43m \u001B[49m\u001B[38;5;241;43m+\u001B[39;49m\u001B[43m \u001B[49m\u001B[38;5;28;43mstr\u001B[39;49m\u001B[43m(\u001B[49m\u001B[43mm\u001B[49m\u001B[43m)\u001B[49m\u001B[43m \u001B[49m\u001B[38;5;241;43m+\u001B[39;49m\u001B[43m \u001B[49m\u001B[38;5;124;43m'\u001B[39;49m\u001B[38;5;124;43m,\u001B[39;49m\u001B[38;5;124;43m'\u001B[39;49m\u001B[43m \u001B[49m\u001B[38;5;241;43m+\u001B[39;49m\u001B[43m \u001B[49m\u001B[38;5;28;43mstr\u001B[39;49m\u001B[43m(\u001B[49m\u001B[43mk\u001B[49m\u001B[43m)\u001B[49m\u001B[43m]\u001B[49m\n\u001B[0;32m    154\u001B[0m matrix_mul_algorithm \u001B[38;5;241m=\u001B[39m \u001B[38;5;28mself\u001B[39m\u001B[38;5;241m.\u001B[39malgorithm_from_factors(factors, n, m, k)\n\u001B[0;32m    155\u001B[0m \u001B[38;5;28;01mreturn\u001B[39;00m matrix_mul_algorithm(A, B), factors[\u001B[38;5;241m0\u001B[39m]\u001B[38;5;241m.\u001B[39mshape[\u001B[38;5;241m-\u001B[39m\u001B[38;5;241m1\u001B[39m]\n",
      "\u001B[1;31mKeyError\u001B[0m: '8,8,8'"
     ]
    }
   ],
   "source": [
    "test_functions(4)"
   ],
   "metadata": {
    "collapsed": false,
    "ExecuteTime": {
     "end_time": "2023-11-11T00:44:28.191073300Z",
     "start_time": "2023-11-11T00:44:28.001995300Z"
    }
   }
  },
  {
   "cell_type": "code",
   "execution_count": 7,
   "outputs": [],
   "source": [
    "def stat_functions(bound):\n",
    "    df_times = pd.DataFrame()\n",
    "    df_add = pd.DataFrame()\n",
    "    df_mul = pd.DataFrame()\n",
    "    MM = MatrixMultiplier(create_M_2(1), create_M_2(1))\n",
    "    for n in range(2, bound):\n",
    "        MM.A, MM.B = create_M_2(n), create_M_2(n)\n",
    "        methods = {\"Iterative\":MM.iterative, \"Binet\":MM.binet, \"Strassen\":MM.strassen, \"AlphaTensor\":MM.alphatensor}\n",
    "        for method_name, method in methods.items():\n",
    "            MM.reset_counter()\n",
    "            print(n, method_name[0], end=\" \")\n",
    "            start_time = time()\n",
    "            method()\n",
    "            df_times.at[n, method_name] = time() - start_time\n",
    "            df_add.at[n, method_name] = MM.get_current_flops()[\"add\"]\n",
    "            df_mul.at[n, method_name] = MM.get_current_flops()[\"mul\"]\n",
    "    return df_times, df_add, df_mul"
   ],
   "metadata": {
    "collapsed": false,
    "ExecuteTime": {
     "end_time": "2023-11-11T00:38:21.140544300Z",
     "start_time": "2023-11-11T00:38:21.100544700Z"
    }
   }
  },
  {
   "cell_type": "code",
   "execution_count": 12,
   "outputs": [],
   "source": [
    "dfs = stat_functions(2)"
   ],
   "metadata": {
    "collapsed": false,
    "ExecuteTime": {
     "end_time": "2023-11-11T00:43:45.783413200Z",
     "start_time": "2023-11-11T00:43:45.635788300Z"
    }
   }
  },
  {
   "cell_type": "code",
   "execution_count": null,
   "outputs": [],
   "source": [
    "df = dfs[1]\n",
    "def plot_stats(dfs):\n",
    "    titles = [\"Methods' times comparison\", \"Methods' addition counts comparison\", \"Methods' multiplication counts comparison\"]\n",
    "    y_labels = [\"Time [s]\", \"Addition count\", \"Multiplication count\"]\n",
    "    fig, axes = plt.subplots(nrows=3, ncols=1, figsize=(8, 18))\n",
    "    for df, title, y_label, ax in zip(dfs, titles, y_labels, axes):\n",
    "        # Polynomial interpolation and plotting\n",
    "        plt.figure(figsize=(10, 6))\n",
    "        sns.set(style=\"whitegrid\")\n",
    "\n",
    "        for method in df.columns:\n",
    "            x = df.index\n",
    "            y = df[method]\n",
    "\n",
    "            # Polynomial interpolation\n",
    "            coefficients = np.polyfit(x, y, len(x) - 1)\n",
    "            polynomial = np.poly1d(coefficients)\n",
    "\n",
    "            # Generate interpolated x values\n",
    "            x_interp = np.linspace(min(x), max(x), 100)\n",
    "\n",
    "            # Plot the interpolated curve\n",
    "            ax.plot(x_interp, polynomial(x_interp), label=method)\n",
    "            ax.scatter(x, y)\n",
    "\n",
    "        # Set labels and title\n",
    "        ax.set_xlabel('Size od matrices ($\\log_2$ scale)')\n",
    "        ax.set_ylabel(y_label)\n",
    "        ax.set_title(title)\n",
    "\n",
    "        # Show legend\n",
    "        ax.legend()\n",
    "\n",
    "        # Show the plot\n",
    "    plt.tight_layout()\n",
    "    plt.show()"
   ],
   "metadata": {
    "collapsed": false,
    "ExecuteTime": {
     "end_time": "2023-11-11T00:38:21.871065700Z",
     "start_time": "2023-11-11T00:38:21.861047900Z"
    }
   }
  },
  {
   "cell_type": "code",
   "execution_count": null,
   "outputs": [],
   "source": [
    "plot_stats(dfs)"
   ],
   "metadata": {
    "collapsed": false,
    "ExecuteTime": {
     "start_time": "2023-11-11T00:38:21.861047900Z"
    }
   }
  }
 ],
 "metadata": {
  "kernelspec": {
   "display_name": "Python 3",
   "language": "python",
   "name": "python3"
  },
  "language_info": {
   "codemirror_mode": {
    "name": "ipython",
    "version": 2
   },
   "file_extension": ".py",
   "mimetype": "text/x-python",
   "name": "python",
   "nbconvert_exporter": "python",
   "pygments_lexer": "ipython2",
   "version": "2.7.6"
  }
 },
 "nbformat": 4,
 "nbformat_minor": 0
}
